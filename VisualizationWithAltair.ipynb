{
 "cells": [
  {
   "cell_type": "markdown",
   "metadata": {
    "nbpresent": {
     "id": "3fb83481-673d-4b7f-ad43-7edd90fbd8bf"
    },
    "slideshow": {
     "slide_type": "slide"
    }
   },
   "source": [
    "# *Declarative* *Statistical* Visualization with Altair"
   ]
  },
  {
   "cell_type": "markdown",
   "metadata": {},
   "source": [
    "*Source for talk given on Nov 9, 2016*"
   ]
  },
  {
   "cell_type": "markdown",
   "metadata": {},
   "source": [
    "## Pain-points in Python Visualization\n",
    "\n",
    "\"I have been using Matplotlib for a decade now, and I still have to look most things up\"\n",
    "\n",
    "\"I love Python but I switch to R for my visualizations.\"\n",
    "\n",
    "\"Some combination of matplotib, seaborn, and Bokeh usually does the trick for me.\""
   ]
  },
  {
   "cell_type": "markdown",
   "metadata": {
    "nbpresent": {
     "id": "91cf7d3e-5f3d-44b7-adfd-11b98f2ceefe"
    },
    "slideshow": {
     "slide_type": "slide"
    }
   },
   "source": [
    "## Plotting with Matplotlib\n",
    "\n",
    "http://matplotlib.org/"
   ]
  },
  {
   "cell_type": "code",
   "execution_count": null,
   "metadata": {
    "collapsed": false,
    "nbpresent": {
     "id": "2a787c85-98d5-4a1a-9a33-18f295e4abf2"
    },
    "slideshow": {
     "slide_type": "skip"
    }
   },
   "outputs": [],
   "source": [
    "%matplotlib inline\n",
    "import matplotlib.pyplot as plt\n",
    "plt.style.use('seaborn-whitegrid')\n",
    "\n",
    "plt.rc('figure', figsize=(8, 6))"
   ]
  },
  {
   "cell_type": "code",
   "execution_count": null,
   "metadata": {
    "collapsed": false,
    "nbpresent": {
     "id": "a3e672d2-820c-4ecb-9024-d4a76ed28c26"
    },
    "slideshow": {
     "slide_type": "fragment"
    }
   },
   "outputs": [],
   "source": [
    "import matplotlib.pyplot as plt\n",
    "from numpy.random import rand\n",
    "\n",
    "for color in ['red', 'green', 'blue']:\n",
    "    x, y = rand(2, 100)\n",
    "    size = 200.0 * rand(100)\n",
    "    plt.scatter(x, y, c=color, s=size, label=color,\n",
    "                alpha=0.3, edgecolor='none')\n",
    "\n",
    "plt.legend(frameon=True);"
   ]
  },
  {
   "cell_type": "markdown",
   "metadata": {},
   "source": [
    "## Matplotlib: Pros and Cons\n",
    "\n",
    "### Advantages:\n",
    "\n",
    "- Matlab-like API\n",
    "- Well-tested, standard tool for over a decade\n",
    "- LOADS of rendering backends\n",
    "- Can reproduce just about any plot… if you have the time\n",
    "\n",
    "### Disadvantages:\n",
    "\n",
    "- Matlab-like API\n",
    "- Poor stylistic defaults (though improving in version 2.0)\n",
    "- Imperative model: lots of boilerplate and manual tweaking required (though see Seaborn & ggplot)\n",
    "- Poor support for web/interactive graphs (though see mpld3)\n",
    "- Can be slow for larger data\n"
   ]
  },
  {
   "cell_type": "markdown",
   "metadata": {
    "nbpresent": {
     "id": "1cc492c4-d2c7-4710-8601-4e73c27a94b2"
    },
    "slideshow": {
     "slide_type": "slide"
    }
   },
   "source": [
    "## Matplotlib Gallery"
   ]
  },
  {
   "cell_type": "code",
   "execution_count": null,
   "metadata": {
    "collapsed": false,
    "nbpresent": {
     "id": "ba65ced0-bbb5-4ddd-ac3a-6b58cd63235b"
    },
    "slideshow": {
     "slide_type": "fragment"
    }
   },
   "outputs": [],
   "source": [
    "from IPython.display import IFrame\n",
    "IFrame('http://matplotlib.org/gallery.html', 800, 600)"
   ]
  },
  {
   "cell_type": "markdown",
   "metadata": {
    "nbpresent": {
     "id": "d7da3e6c-2148-48fc-b85a-133258aaa68d"
    }
   },
   "source": [
    "## Plotting with Bokeh\n",
    "\n",
    "http://bokeh.pydata.org/"
   ]
  },
  {
   "cell_type": "code",
   "execution_count": null,
   "metadata": {
    "collapsed": false,
    "nbpresent": {
     "id": "9dc2a885-7993-4e0b-b839-282514b17bbe"
    }
   },
   "outputs": [],
   "source": [
    "from bokeh.io import output_notebook\n",
    "output_notebook()"
   ]
  },
  {
   "cell_type": "code",
   "execution_count": null,
   "metadata": {
    "collapsed": false,
    "nbpresent": {
     "id": "6795fd1b-aeb5-4eb8-8c9a-d32d597d81a1"
    }
   },
   "outputs": [],
   "source": [
    "from numpy import pi, arange, sin, linspace\n",
    "\n",
    "from bokeh.plotting import output_file, figure, show\n",
    "from bokeh.models import LinearAxis, Range1d\n",
    "\n",
    "p = figure()\n",
    "\n",
    "for color in ['red', 'green', 'blue']:\n",
    "    x, y = rand(2, 100)\n",
    "    size = 0.03 * rand(100)\n",
    "    p.circle(x, y, fill_color=color, radius=size, legend=color,\n",
    "             fill_alpha=0.3, line_color=None)\n",
    "\n",
    "show(p)"
   ]
  },
  {
   "cell_type": "markdown",
   "metadata": {},
   "source": [
    "## Bokeh Pros & Cons\n",
    "\n",
    "### Advantages:\n",
    "\n",
    "- Browser-based interactivity built-in\n",
    "- Imperative and Declarative layer\n",
    "- Handles large and/or streaming datasets\n",
    "- Modern default plot styles\n",
    "\n",
    "### Disadvantages:\n",
    "\n",
    "- Only output is PNG (need PDF/EPS for a scientific publication? Sorry!)\n",
    "- Newer tool with a smaller user-base than matplotlib"
   ]
  },
  {
   "cell_type": "markdown",
   "metadata": {},
   "source": [
    "## Bokeh Gallery"
   ]
  },
  {
   "cell_type": "code",
   "execution_count": null,
   "metadata": {
    "collapsed": false,
    "nbpresent": {
     "id": "e2d1591c-b8b5-49d7-8796-0cb16be19bd8"
    }
   },
   "outputs": [],
   "source": [
    "IFrame('http://bokeh.pydata.org/en/latest/docs/gallery.html', 800, 600)"
   ]
  },
  {
   "cell_type": "markdown",
   "metadata": {
    "nbpresent": {
     "id": "448ed8e4-4281-4111-ba3f-84febf567d56"
    }
   },
   "source": [
    "## Moving to *Statistical* Visualization"
   ]
  },
  {
   "cell_type": "code",
   "execution_count": null,
   "metadata": {
    "collapsed": false,
    "nbpresent": {
     "id": "a9bfbff5-4048-457b-aee6-bf082ab84f5e"
    }
   },
   "outputs": [],
   "source": [
    "from altair import load_dataset\n",
    "iris = load_dataset('iris')\n",
    "iris.head()"
   ]
  },
  {
   "cell_type": "code",
   "execution_count": null,
   "metadata": {
    "collapsed": false,
    "nbpresent": {
     "id": "d515c763-ee0b-4ecf-b747-8521e5717668"
    }
   },
   "outputs": [],
   "source": [
    "color_map = dict(zip(iris.species.unique(), ['blue', 'green', 'red']))\n",
    "\n",
    "for species, group in iris.groupby('species'):\n",
    "    plt.scatter(group['petalLength'], group['sepalWidth'],\n",
    "                color=color_map[species],\n",
    "                alpha=0.3, edgecolor=None,\n",
    "                label=species)\n",
    "    \n",
    "plt.legend(frameon=True, title='species')\n",
    "plt.xlabel('petalLength')\n",
    "plt.ylabel('sepalLength');"
   ]
  },
  {
   "cell_type": "code",
   "execution_count": null,
   "metadata": {
    "collapsed": false,
    "nbpresent": {
     "id": "06086e80-bb3e-40e7-9914-5bf9d0fca8c4"
    },
    "scrolled": true
   },
   "outputs": [],
   "source": [
    "color_map = dict(zip(iris.species.unique(), ['blue', 'green', 'red']))\n",
    "n_panels = len(color_map)\n",
    "\n",
    "fig, ax = plt.subplots(1, n_panels, figsize=(n_panels * 5, 3),\n",
    "                       sharex=True, sharey=True)\n",
    "\n",
    "for i, (species, group) in enumerate(iris.groupby('species')):\n",
    "    ax[i].scatter(group['petalLength'], group['sepalWidth'],\n",
    "                  color=color_map[species],\n",
    "                  alpha=0.3, edgecolor=None,\n",
    "                  label=species)\n",
    "    ax[i].legend(frameon=True, title='species')\n",
    "\n",
    "plt.xlabel('petalLength')\n",
    "plt.ylabel('sepalLength');"
   ]
  },
  {
   "cell_type": "markdown",
   "metadata": {
    "nbpresent": {
     "id": "aefbb024-1d99-4dfc-b48b-0bd1d6c5f61b"
    }
   },
   "source": [
    "## On to *Declarative* Statistical Visualization\n",
    "\n",
    "### Seaborn: *Almost* Declarative..."
   ]
  },
  {
   "cell_type": "code",
   "execution_count": null,
   "metadata": {
    "collapsed": false,
    "nbpresent": {
     "id": "19c291b3-6e1c-474d-88e8-60a6f3945182"
    }
   },
   "outputs": [],
   "source": [
    "import seaborn as sns\n",
    "g = sns.FacetGrid(iris, col=\"species\", hue=\"species\")\n",
    "g.map(plt.scatter, \"petalLength\", \"sepalWidth\", alpha=0.3)\n",
    "g.add_legend();"
   ]
  },
  {
   "cell_type": "markdown",
   "metadata": {},
   "source": [
    "### Altair"
   ]
  },
  {
   "cell_type": "code",
   "execution_count": null,
   "metadata": {
    "collapsed": false,
    "nbpresent": {
     "id": "e1a43390-537c-4230-9253-b0f8abd0c105"
    }
   },
   "outputs": [],
   "source": [
    "from altair import Chart\n",
    "\n",
    "Chart(iris).mark_circle(\n",
    "    opacity=0.3\n",
    ").encode(\n",
    "    x='petalLength',\n",
    "    y='sepalWidth',\n",
    "    color='species'\n",
    ")"
   ]
  },
  {
   "cell_type": "code",
   "execution_count": null,
   "metadata": {
    "collapsed": false,
    "nbpresent": {
     "id": "21d53ff1-a202-4a58-9f8a-6d90a2933b15"
    }
   },
   "outputs": [],
   "source": [
    "from altair import Chart\n",
    "\n",
    "Chart(iris).mark_circle(\n",
    "    opacity=0.3\n",
    ").encode(\n",
    "    x='petalLength',\n",
    "    y='sepalWidth',\n",
    "    color='species',\n",
    "    column='species'\n",
    ")"
   ]
  },
  {
   "cell_type": "markdown",
   "metadata": {},
   "source": [
    "## What is Altair?\n",
    "\n",
    "### D3\n",
    "\n",
    "### Vega\n",
    "\n",
    "### Vega-Lite\n",
    "\n",
    "### Altair"
   ]
  },
  {
   "cell_type": "markdown",
   "metadata": {
    "nbpresent": {
     "id": "20220efd-b034-4d79-8127-64eb7aa5f65b"
    }
   },
   "source": [
    "## From Declarative *API* to Declarative *Grammar*"
   ]
  },
  {
   "cell_type": "code",
   "execution_count": null,
   "metadata": {
    "collapsed": false,
    "nbpresent": {
     "id": "f8cb3648-0ee5-45b3-9b66-f57066640b0e"
    }
   },
   "outputs": [],
   "source": [
    "url = load_dataset('iris', url_only=True)\n",
    "\n",
    "chart = Chart(url).mark_circle(\n",
    "    opacity=0.3\n",
    ").encode(\n",
    "    x='petalLength:Q',\n",
    "    y='sepalWidth:Q',\n",
    "    color='species:N',\n",
    ")\n",
    "\n",
    "chart"
   ]
  },
  {
   "cell_type": "code",
   "execution_count": null,
   "metadata": {
    "collapsed": false,
    "nbpresent": {
     "id": "c1984bfa-d4c3-4192-baa1-b5b257e3832d"
    }
   },
   "outputs": [],
   "source": [
    "chart.to_dict()"
   ]
  },
  {
   "cell_type": "markdown",
   "metadata": {},
   "source": [
    "## Why *Another* Plotting Library?\n",
    "\n",
    "Key: Think of this not as another plotting library, but an interface to declarative visualization grammar.\n",
    "\n",
    "- **Teaching**: students can learn visualization concepts with minimal syntactic distraction.\n",
    "\n",
    "- **Publishing**: Instead of publishing pixels, can publish data + plot specification for greater flexibility & reproducibility.\n",
    "\n",
    "- **Cross-Pollenation**: Vega-Lite has the potential to provide a cross-platform *lingua franca* of statistical visualization.\n"
   ]
  },
  {
   "cell_type": "markdown",
   "metadata": {},
   "source": [
    "## Altair Key Features\n",
    "\n",
    "- Data specified in *Tidy Format* & linked to a declared type: Quantitative, Nominal, Ordinal, Temporal\n",
    "- Well-defined set of marks to represent data\n",
    "- *Channels* map *data features* (i.e. columns) to *visual encodings* (e.g. x, y, color, size, shape, row, column, etc.)\n",
    "- Simple data transformations supported natively"
   ]
  },
  {
   "cell_type": "markdown",
   "metadata": {},
   "source": [
    "## Examples"
   ]
  },
  {
   "cell_type": "markdown",
   "metadata": {
    "collapsed": true
   },
   "source": [
    "### Demo: Seattle Weather"
   ]
  },
  {
   "cell_type": "code",
   "execution_count": null,
   "metadata": {
    "collapsed": false
   },
   "outputs": [],
   "source": [
    "from altair import load_dataset\n",
    "data = load_dataset('seattle-weather')\n",
    "data.head()"
   ]
  },
  {
   "cell_type": "code",
   "execution_count": null,
   "metadata": {
    "collapsed": false
   },
   "outputs": [],
   "source": [
    "from altair import Chart\n",
    "\n",
    "Chart(data).mark_tick().encode(\n",
    "    x='precipitation',\n",
    ")"
   ]
  },
  {
   "cell_type": "code",
   "execution_count": null,
   "metadata": {
    "collapsed": false
   },
   "outputs": [],
   "source": [
    "from altair import X\n",
    "\n",
    "Chart(data).mark_tick().encode(\n",
    "    X('precipitation:Q'),\n",
    ")"
   ]
  },
  {
   "cell_type": "code",
   "execution_count": null,
   "metadata": {
    "collapsed": true
   },
   "outputs": [],
   "source": [
    "X?"
   ]
  },
  {
   "cell_type": "code",
   "execution_count": null,
   "metadata": {
    "collapsed": false
   },
   "outputs": [],
   "source": [
    "from altair import X, Y\n",
    "\n",
    "Chart(data).mark_bar().encode(\n",
    "    X('precipitation', bin=True),\n",
    "    Y('count(*):Q')\n",
    ")"
   ]
  },
  {
   "cell_type": "code",
   "execution_count": null,
   "metadata": {
    "collapsed": false
   },
   "outputs": [],
   "source": [
    "from altair import Bin\n",
    "\n",
    "Chart(data).mark_bar().encode(\n",
    "    X('precipitation', bin=Bin(maxbins=30)),\n",
    "    Y('count(*):Q')\n",
    ")"
   ]
  },
  {
   "cell_type": "code",
   "execution_count": null,
   "metadata": {
    "collapsed": false
   },
   "outputs": [],
   "source": [
    "Chart(data).mark_point().encode(\n",
    "    X('date:T'),\n",
    "    Y('precipitation')\n",
    ")"
   ]
  },
  {
   "cell_type": "code",
   "execution_count": null,
   "metadata": {
    "collapsed": false
   },
   "outputs": [],
   "source": [
    "Chart(data).mark_bar().encode(\n",
    "    X('date:T', timeUnit='month'),\n",
    "    Y('average(precipitation)')\n",
    ")"
   ]
  },
  {
   "cell_type": "code",
   "execution_count": null,
   "metadata": {
    "collapsed": false
   },
   "outputs": [],
   "source": [
    "Chart(data).mark_line().encode(\n",
    "    X('date:T', timeUnit='yearmonth'),\n",
    "    Y('max(temp_max)'),\n",
    ")"
   ]
  },
  {
   "cell_type": "code",
   "execution_count": null,
   "metadata": {
    "collapsed": false
   },
   "outputs": [],
   "source": [
    "from altair import LayeredChart\n",
    "\n",
    "Chart(data).mark_area().encode(\n",
    "    X('date:T', timeUnit='yearmonth'),\n",
    "    y='max(temp_max)',\n",
    "    y2='min(temp_min)'\n",
    ")"
   ]
  },
  {
   "cell_type": "code",
   "execution_count": null,
   "metadata": {
    "collapsed": false
   },
   "outputs": [],
   "source": [
    "from altair import LayeredChart\n",
    "\n",
    "# NOTE: Layering API is experimental and will probably change in v2.0\n",
    "\n",
    "chart = Chart(data).mark_area().encode(\n",
    "    X('date:T', timeUnit='yearmonth'),\n",
    "    y='max(temp_max)',\n",
    "    y2='min(temp_min)'\n",
    ")\n",
    "\n",
    "chart += Chart(data).mark_rule(\n",
    "    color='black',\n",
    "    opacity=0.3\n",
    ").encode(\n",
    "    X('date:T'),\n",
    "    y='temp_min',\n",
    "    y2='temp_max'\n",
    ")\n",
    "\n",
    "chart.data = data\n",
    "chart"
   ]
  },
  {
   "cell_type": "markdown",
   "metadata": {},
   "source": [
    "### Demo: Baseball Stats"
   ]
  },
  {
   "cell_type": "code",
   "execution_count": null,
   "metadata": {
    "collapsed": false
   },
   "outputs": [],
   "source": [
    "import pandas as pd\n",
    "data_url = 'https://raw.githubusercontent.com/jakevdp/altair-examples/master/data/strikeouts.csv'\n",
    "data = pd.read_csv(data_url, index_col=0)\n",
    "data.head()"
   ]
  },
  {
   "cell_type": "code",
   "execution_count": null,
   "metadata": {
    "collapsed": false
   },
   "outputs": [],
   "source": [
    "Chart(data_url).mark_tick().encode(\n",
    "    x='so:Q'\n",
    ")"
   ]
  },
  {
   "cell_type": "code",
   "execution_count": null,
   "metadata": {
    "collapsed": false
   },
   "outputs": [],
   "source": [
    "chart = Chart(data_url).mark_tick().encode(\n",
    "    x='so:Q'\n",
    ")\n",
    "chart.to_dict()"
   ]
  },
  {
   "cell_type": "code",
   "execution_count": null,
   "metadata": {
    "collapsed": false
   },
   "outputs": [],
   "source": [
    "Chart(data_url).mark_bar().encode(\n",
    "    X('so:Q', bin=True)\n",
    ")"
   ]
  },
  {
   "cell_type": "code",
   "execution_count": null,
   "metadata": {
    "collapsed": false
   },
   "outputs": [],
   "source": [
    "Chart(data_url).mark_bar().encode(\n",
    "    X('so:Q', bin=True),\n",
    "    y='count(*):Q'\n",
    ")"
   ]
  },
  {
   "cell_type": "code",
   "execution_count": null,
   "metadata": {
    "collapsed": false
   },
   "outputs": [],
   "source": [
    "from altair import Bin\n",
    "\n",
    "Chart(data_url).mark_bar().encode(\n",
    "    X('so:Q', bin=Bin(maxbins=30)),\n",
    "    y='count(*):Q',\n",
    ")"
   ]
  },
  {
   "cell_type": "code",
   "execution_count": null,
   "metadata": {
    "collapsed": false
   },
   "outputs": [],
   "source": [
    "from altair import Bin\n",
    "\n",
    "Chart(data_url).mark_bar().encode(\n",
    "    X('so:Q', bin=Bin(maxbins=30)),\n",
    "    y='count(*):Q',\n",
    "    color='franchise:N'\n",
    ")"
   ]
  },
  {
   "cell_type": "code",
   "execution_count": null,
   "metadata": {
    "collapsed": false
   },
   "outputs": [],
   "source": [
    "chart = Chart(data_url).mark_circle().encode(\n",
    "    x='so:Q',\n",
    "    y='g:Q',\n",
    "    color='year:Q'\n",
    ")\n",
    "chart"
   ]
  },
  {
   "cell_type": "code",
   "execution_count": null,
   "metadata": {
    "collapsed": false
   },
   "outputs": [],
   "source": [
    "chart.to_dict()"
   ]
  },
  {
   "cell_type": "code",
   "execution_count": null,
   "metadata": {
    "collapsed": false
   },
   "outputs": [],
   "source": [
    "from altair import expr\n",
    "data = expr.DataFrame(data_url)\n",
    "data['so_per_game'] = data.so // data.g\n",
    "\n",
    "Chart(data).mark_circle().encode(\n",
    "    x='year:T',\n",
    "    y='so_per_game'\n",
    ")"
   ]
  },
  {
   "cell_type": "code",
   "execution_count": null,
   "metadata": {
    "collapsed": false
   },
   "outputs": [],
   "source": [
    "Chart(data).mark_text().encode(\n",
    "    x='year:T',\n",
    "    y='so_per_game',\n",
    "    text='franchise'\n",
    ")"
   ]
  },
  {
   "cell_type": "code",
   "execution_count": null,
   "metadata": {
    "collapsed": false
   },
   "outputs": [],
   "source": [
    "data_filtered = data[data.franchise=='BOS']\n",
    "\n",
    "points = Chart(data_filtered).mark_point(\n",
    "    color='red'\n",
    ").encode(\n",
    "    x='year:T',\n",
    "    y='so_per_game'\n",
    ")\n",
    "\n",
    "# Note: layers interface is still experimental in version 1.2\n",
    "layers = chart + points\n",
    "layers.data = data  # Bug... sorry\n",
    "layers"
   ]
  },
  {
   "cell_type": "code",
   "execution_count": null,
   "metadata": {
    "collapsed": false
   },
   "outputs": [],
   "source": [
    "from altair import LayeredChart, Axis\n",
    "\n",
    "# NOTE: Layering API is preliminary, and will probably be updated\n",
    "\n",
    "chart = LayeredChart(data).configure_cell(\n",
    "    height=300,\n",
    "    width=700\n",
    ")\n",
    "\n",
    "chart += Chart().mark_circle(\n",
    "    color='gray',\n",
    "    opacity=0.1,\n",
    ").encode(\n",
    "    x=X('year:T', timeUnit='year', axis=Axis(title=' ')),\n",
    "    y=Y('so_per_game', axis=Axis(title='Strikeouts Per Game')),\n",
    "    detail='histcode:N',\n",
    ")\n",
    "\n",
    "chart += Chart().mark_line().encode(\n",
    "    x='year:T',\n",
    "    y='mean(so_per_game)',\n",
    ")\n",
    "\n",
    "chart += Chart().mark_circle().encode(\n",
    "    x='year:T',\n",
    "    y='mean(so_per_game)',\n",
    ")\n",
    "\n",
    "chart"
   ]
  },
  {
   "cell_type": "markdown",
   "metadata": {},
   "source": [
    "### Demo: Interaction with Vega-Lite\n",
    "\n",
    "Examples listing: http://vega.github.io/vega-lite/examples/\n",
    "\n",
    "Data URL: https://vega.github.io/vega-datasets/"
   ]
  },
  {
   "cell_type": "code",
   "execution_count": null,
   "metadata": {
    "collapsed": false
   },
   "outputs": [],
   "source": [
    "json = \"\"\"\n",
    "{\n",
    "  \"data\": {\"url\": \"https://vega.github.io/vega-datasets/data/seattle-weather.csv\",\"format\": {\"type\": \"csv\"}},\n",
    "  \"mark\": \"bar\",\n",
    "  \"encoding\": {\n",
    "    \"x\": {\n",
    "      \"field\": \"date\",\n",
    "      \"type\": \"temporal\",\n",
    "      \"timeUnit\": \"month\",\n",
    "      \"axis\": {\"title\": \"Month of the year\"}\n",
    "    },\n",
    "    \"y\": {\n",
    "      \"field\": \"*\",\n",
    "      \"type\": \"quantitative\",\n",
    "      \"aggregate\": \"count\"\n",
    "    },\n",
    "    \"color\": {\n",
    "      \"field\": \"weather\",\n",
    "      \"type\": \"nominal\",\n",
    "      \"scale\": {\n",
    "        \"domain\": [\"sun\",\"fog\",\"drizzle\",\"rain\",\"snow\"],\n",
    "        \"range\": [\"#e7ba52\",\"#c7c7c7\",\"#aec7e8\",\"#1f77b4\",\"#9467bd\"]\n",
    "      },\n",
    "      \"legend\": {\n",
    "        \"title\": \"Weather type\"\n",
    "      }\n",
    "    }\n",
    "  }\n",
    "}\n",
    "\"\"\"\n",
    "\n",
    "chart = Chart.from_json(json)\n",
    "chart"
   ]
  },
  {
   "cell_type": "code",
   "execution_count": null,
   "metadata": {
    "collapsed": false
   },
   "outputs": [],
   "source": [
    "print(chart.to_altair())"
   ]
  },
  {
   "cell_type": "code",
   "execution_count": null,
   "metadata": {
    "collapsed": false
   },
   "outputs": [],
   "source": [
    "from altair import *\n",
    "eval(chart.to_altair())"
   ]
  },
  {
   "cell_type": "markdown",
   "metadata": {},
   "source": [
    "## Future Work\n",
    "\n",
    "- More plot types\n",
    "- Higher-level Statistical routines\n",
    "- Improve layering API\n",
    "- Add interface to vega-tooltip\n",
    "- Vega-Lite's Grammar of Interaction (See http://idl.cs.washington.edu/papers/vega-lite/)"
   ]
  }
 ],
 "metadata": {
  "anaconda-cloud": {},
  "kernelspec": {
   "display_name": "Python 3.5",
   "language": "",
   "name": "python3.5"
  },
  "language_info": {
   "codemirror_mode": {
    "name": "ipython",
    "version": 3
   },
   "file_extension": ".py",
   "mimetype": "text/x-python",
   "name": "python",
   "nbconvert_exporter": "python",
   "pygments_lexer": "ipython3",
   "version": "3.5.1"
  },
  "nbpresent": {
   "slides": {
    "6744f877-f3ad-44dd-a3ed-1edea2d51e65": {
     "id": "6744f877-f3ad-44dd-a3ed-1edea2d51e65",
     "prev": null,
     "regions": {
      "689e3275-cf24-4fd4-886c-03d396baf58e": {
       "attrs": {
        "height": 0.8,
        "width": 0.8,
        "x": 0.1,
        "y": 0.1
       },
       "content": {
        "cell": "3fb83481-673d-4b7f-ad43-7edd90fbd8bf",
        "part": "whole"
       },
       "id": "689e3275-cf24-4fd4-886c-03d396baf58e"
      }
     }
    },
    "eaeb9a30-41ed-452d-88b0-5006ccb2f1fb": {
     "id": "eaeb9a30-41ed-452d-88b0-5006ccb2f1fb",
     "prev": "f644abc5-24cd-4e81-a357-91653235a304",
     "regions": {
      "0ace6006-46d7-4e35-aeb4-09d7cf9d1099": {
       "attrs": {
        "height": 0.4,
        "width": 0.8,
        "x": 0.1,
        "y": 0.5
       },
       "content": {
        "cell": "9dc2a885-7993-4e0b-b839-282514b17bbe",
        "part": "whole"
       },
       "id": "0ace6006-46d7-4e35-aeb4-09d7cf9d1099"
      },
      "4b551825-8afe-4ee8-9568-91c2199601e3": {
       "attrs": {
        "height": 0.4,
        "width": 0.8,
        "x": 0.1,
        "y": 0.5
       },
       "content": {
        "cell": "a9bfbff5-4048-457b-aee6-bf082ab84f5e",
        "part": "whole"
       },
       "id": "4b551825-8afe-4ee8-9568-91c2199601e3"
      },
      "5882b0b6-c7d7-41b0-aafa-959e18fcb188": {
       "attrs": {
        "height": 0.4,
        "width": 0.8,
        "x": 0.1,
        "y": 0.5
       },
       "content": {
        "cell": "e1a43390-537c-4230-9253-b0f8abd0c105",
        "part": "whole"
       },
       "id": "5882b0b6-c7d7-41b0-aafa-959e18fcb188"
      },
      "59330837-8e9b-4c8e-9fc9-5884adcfd74a": {
       "attrs": {
        "height": 0.4,
        "width": 0.8,
        "x": 0.1,
        "y": 0.5
       },
       "content": {
        "cell": "d7da3e6c-2148-48fc-b85a-133258aaa68d",
        "part": "whole"
       },
       "id": "59330837-8e9b-4c8e-9fc9-5884adcfd74a"
      },
      "751d77e1-4f02-4c9d-8cd0-cbf4e75c9f23": {
       "attrs": {
        "height": 0.4,
        "width": 0.8,
        "x": 0.1,
        "y": 0.5
       },
       "content": {
        "cell": "ba65ced0-bbb5-4ddd-ac3a-6b58cd63235b",
        "part": "whole"
       },
       "id": "751d77e1-4f02-4c9d-8cd0-cbf4e75c9f23"
      },
      "80e3dfea-5c49-4a56-b3db-8ab928756852": {
       "attrs": {
        "height": 0.4,
        "width": 0.8,
        "x": 0.1,
        "y": 0.5
       },
       "content": {
        "cell": "448ed8e4-4281-4111-ba3f-84febf567d56",
        "part": "whole"
       },
       "id": "80e3dfea-5c49-4a56-b3db-8ab928756852"
      },
      "8cf13ca8-ea8a-4a37-b8f5-ed60f5c12f48": {
       "attrs": {
        "height": 0.4,
        "width": 0.8,
        "x": 0.1,
        "y": 0.5
       },
       "content": {
        "cell": "9cec19c7-2661-4fc8-a3b6-1a78463538c2",
        "part": "whole"
       },
       "id": "8cf13ca8-ea8a-4a37-b8f5-ed60f5c12f48"
      },
      "975a7eb2-cf5e-469c-8f44-0b80a1161141": {
       "attrs": {
        "height": 0.4,
        "width": 0.8,
        "x": 0.1,
        "y": 0.5
       },
       "content": {
        "cell": "20220efd-b034-4d79-8127-64eb7aa5f65b",
        "part": "whole"
       },
       "id": "975a7eb2-cf5e-469c-8f44-0b80a1161141"
      },
      "9c807251-414e-4dca-a925-6e012426f861": {
       "attrs": {
        "height": 0.4,
        "width": 0.8,
        "x": 0.1,
        "y": 0.5
       },
       "content": {
        "cell": "aefbb024-1d99-4dfc-b48b-0bd1d6c5f61b",
        "part": "whole"
       },
       "id": "9c807251-414e-4dca-a925-6e012426f861"
      },
      "b5e86025-12a3-4534-a565-ccf9282daca4": {
       "attrs": {
        "height": 0.4,
        "width": 0.8,
        "x": 0.1,
        "y": 0.5
       },
       "content": {
        "cell": "19c291b3-6e1c-474d-88e8-60a6f3945182",
        "part": "whole"
       },
       "id": "b5e86025-12a3-4534-a565-ccf9282daca4"
      },
      "b99b712c-05a2-49ec-a572-5ab2e95676db": {
       "attrs": {
        "height": 0.4,
        "width": 0.8,
        "x": 0.1,
        "y": 0.5
       },
       "content": {
        "cell": "d515c763-ee0b-4ecf-b747-8521e5717668",
        "part": "whole"
       },
       "id": "b99b712c-05a2-49ec-a572-5ab2e95676db"
      },
      "bfa88da8-8fc5-4edb-a5fc-e7caa11af224": {
       "attrs": {
        "height": 0.4,
        "width": 0.8,
        "x": 0.1,
        "y": 0.5
       },
       "content": {
        "cell": "06086e80-bb3e-40e7-9914-5bf9d0fca8c4",
        "part": "whole"
       },
       "id": "bfa88da8-8fc5-4edb-a5fc-e7caa11af224"
      },
      "c47c73fa-0449-4f11-ac6f-c7ed442732f1": {
       "attrs": {
        "height": 0.4,
        "width": 0.8,
        "x": 0.1,
        "y": 0.5
       },
       "content": {
        "cell": "e2d1591c-b8b5-49d7-8796-0cb16be19bd8",
        "part": "whole"
       },
       "id": "c47c73fa-0449-4f11-ac6f-c7ed442732f1"
      },
      "c48ce21d-2dd6-453c-ac42-c2c42a76d47b": {
       "attrs": {
        "height": 0.4,
        "width": 0.8,
        "x": 0.1,
        "y": 0.5
       },
       "content": {
        "cell": "c1984bfa-d4c3-4192-baa1-b5b257e3832d",
        "part": "whole"
       },
       "id": "c48ce21d-2dd6-453c-ac42-c2c42a76d47b"
      },
      "c7a0bb7c-ca4b-45f4-8b07-0bb4096e223e": {
       "attrs": {
        "height": 0.8,
        "width": 0.8,
        "x": 0.1,
        "y": 0.1
       },
       "content": {
        "cell": "1cc492c4-d2c7-4710-8601-4e73c27a94b2",
        "part": "whole"
       },
       "id": "c7a0bb7c-ca4b-45f4-8b07-0bb4096e223e"
      },
      "cee16c5d-4022-409d-a010-8d36b47ebbe9": {
       "attrs": {
        "height": 0.4,
        "width": 0.8,
        "x": 0.1,
        "y": 0.5
       },
       "content": {
        "cell": "6795fd1b-aeb5-4eb8-8c9a-d32d597d81a1",
        "part": "whole"
       },
       "id": "cee16c5d-4022-409d-a010-8d36b47ebbe9"
      },
      "d54ebf57-226b-45d5-a235-013c3b34ba9e": {
       "attrs": {
        "height": 0.4,
        "width": 0.8,
        "x": 0.1,
        "y": 0.5
       },
       "content": {
        "cell": "f8cb3648-0ee5-45b3-9b66-f57066640b0e",
        "part": "whole"
       },
       "id": "d54ebf57-226b-45d5-a235-013c3b34ba9e"
      },
      "e5490d43-e24d-4d2c-8877-834d7ec21095": {
       "attrs": {
        "height": 0.4,
        "width": 0.8,
        "x": 0.1,
        "y": 0.5
       },
       "content": {
        "cell": "21d53ff1-a202-4a58-9f8a-6d90a2933b15",
        "part": "whole"
       },
       "id": "e5490d43-e24d-4d2c-8877-834d7ec21095"
      }
     }
    },
    "f644abc5-24cd-4e81-a357-91653235a304": {
     "id": "f644abc5-24cd-4e81-a357-91653235a304",
     "prev": "6744f877-f3ad-44dd-a3ed-1edea2d51e65",
     "regions": {
      "11a57923-7bf1-4f19-b670-25492cb51153": {
       "attrs": {
        "height": 0.4,
        "width": 0.8,
        "x": 0.1,
        "y": 0.5
       },
       "content": {
        "cell": "a3e672d2-820c-4ecb-9024-d4a76ed28c26",
        "part": "whole"
       },
       "id": "11a57923-7bf1-4f19-b670-25492cb51153"
      },
      "4f055886-b3de-4091-88d2-d833f32b15c3": {
       "attrs": {
        "height": 0.8,
        "width": 0.8,
        "x": 0.1,
        "y": 0.1
       },
       "content": {
        "cell": "91cf7d3e-5f3d-44b7-adfd-11b98f2ceefe",
        "part": "whole"
       },
       "id": "4f055886-b3de-4091-88d2-d833f32b15c3"
      }
     }
    }
   },
   "themes": {}
  }
 },
 "nbformat": 4,
 "nbformat_minor": 0
}
