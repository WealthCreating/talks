{
 "metadata": {
  "name": "scipy2012-lightning"
 },
 "nbformat": 3,
 "nbformat_minor": 0,
 "worksheets": [
  {
   "cells": [
    {
     "cell_type": "heading",
     "level": 1,
     "metadata": {},
     "source": [
      "Quick intro to scipy.sparse.csgraph"
     ]
    },
    {
     "cell_type": "markdown",
     "metadata": {},
     "source": [
      "Original motivation: machinery from various scikit-learn algorithms:\n",
      "\n",
      "- Isomap (shortest paths)\n",
      "- Hierarchical Clustering (minimum spanning tree)\n",
      "- Spectral Decomposition (graph laplacians)\n",
      "- ..."
     ]
    },
    {
     "cell_type": "code",
     "collapsed": false,
     "input": [
      "%pylab inline\n",
      "import pylab as pl\n",
      "import numpy as np\n",
      "from scipy.sparse import csgraph\n",
      "\n",
      "csgraph.__all__"
     ],
     "language": "python",
     "metadata": {},
     "outputs": []
    },
    {
     "cell_type": "heading",
     "level": 2,
     "metadata": {},
     "source": [
      "Example: Word Ladders"
     ]
    },
    {
     "cell_type": "markdown",
     "metadata": {},
     "source": [
      "Word ladders are a game invented by Lewis Carroll, in which words are linked\n",
      "by changing a single letter at each step:\n",
      "\n",
      "    APE -> APT -> AIT -> BIT -> BIG -> BAG -> MAG -> MAN\n",
      "\n",
      "Seven steps: can we do better?"
     ]
    },
    {
     "cell_type": "heading",
     "level": 3,
     "metadata": {},
     "source": [
      "Obtaining a List of Words"
     ]
    },
    {
     "cell_type": "code",
     "collapsed": false,
     "input": [
      "wordlist = open('/usr/share/dict/words').read().split('\\n')\n",
      "print len(wordlist)"
     ],
     "language": "python",
     "metadata": {},
     "outputs": []
    },
    {
     "cell_type": "code",
     "collapsed": false,
     "input": [
      "wordlist = filter(lambda w: len(w) == 3, wordlist) # keep 3-letter words\n",
      "wordlist = filter(str.isalpha, wordlist) # no punctuation\n",
      "wordlist = filter(str.islower, wordlist) # no proper nouns or acronyms\n",
      "\n",
      "wordlist = np.sort(wordlist)\n",
      "wordlist.shape"
     ],
     "language": "python",
     "metadata": {},
     "outputs": []
    },
    {
     "cell_type": "markdown",
     "metadata": {},
     "source": [
      "Now we'll convert the characters to integers for easy manipulation"
     ]
    },
    {
     "cell_type": "code",
     "collapsed": false,
     "input": [
      "word_bytes = np.ndarray((wordlist.size, wordlist.itemsize),\n",
      "                        dtype='int8',\n",
      "                        buffer=wordlist.data)\n",
      "word_bytes.shape"
     ],
     "language": "python",
     "metadata": {},
     "outputs": []
    },
    {
     "cell_type": "heading",
     "level": 3,
     "metadata": {},
     "source": [
      "Word Ladders as a Graph"
     ]
    },
    {
     "cell_type": "code",
     "collapsed": false,
     "input": [
      "from scipy.spatial.distance import pdist, squareform\n",
      "from scipy import sparse\n",
      "\n",
      "hamming_dist = pdist(word_bytes, metric='hamming')\n",
      "graph = sparse.csr_matrix(squareform(hamming_dist < 1.01 / wordlist.itemsize))\n",
      "\n",
      "graph.shape"
     ],
     "language": "python",
     "metadata": {},
     "outputs": []
    },
    {
     "cell_type": "code",
     "collapsed": false,
     "input": [
      "pl.figure(figsize=(8, 8))\n",
      "ax = pl.subplot(1, 1, 1)\n",
      "ax.imshow(graph.toarray(), cmap=pl.cm.binary)\n",
      "\n",
      "# Label axes with the words\n",
      "def formatfunc(x, *args):\n",
      "    if x % 1 != 0:\n",
      "        return ''\n",
      "    else:\n",
      "        return wordlist[max(0, min(int(x), graph.shape[0] - 1))]\n",
      "\n",
      "ax.xaxis.set_major_formatter(pl.FuncFormatter(formatfunc))\n",
      "ax.yaxis.set_major_formatter(pl.FuncFormatter(formatfunc))"
     ],
     "language": "python",
     "metadata": {},
     "outputs": []
    },
    {
     "cell_type": "heading",
     "level": 3,
     "metadata": {},
     "source": [
      "Finding the Shortest Path: Dijkstra's Algorithm"
     ]
    },
    {
     "cell_type": "code",
     "collapsed": false,
     "input": [
      "i1 = wordlist.searchsorted('ape')\n",
      "print i1, wordlist[i1]\n",
      "\n",
      "i2 = wordlist.searchsorted('man')\n",
      "print i2, wordlist[i2]"
     ],
     "language": "python",
     "metadata": {},
     "outputs": []
    },
    {
     "cell_type": "code",
     "collapsed": false,
     "input": [
      "distances, predecessors = csgraph.shortest_path(graph, return_predecessors=True)\n",
      "print \"distance from '%s' to '%s': %i steps\" % (wordlist[i1], wordlist[i2], distances[i1, i2])"
     ],
     "language": "python",
     "metadata": {},
     "outputs": []
    },
    {
     "cell_type": "code",
     "collapsed": false,
     "input": [
      "i = i1\n",
      "while i != i2:\n",
      "    print wordlist[i]\n",
      "    i = predecessors[i2, i]\n",
      "print wordlist[i2]"
     ],
     "language": "python",
     "metadata": {},
     "outputs": []
    },
    {
     "cell_type": "heading",
     "level": 3,
     "metadata": {},
     "source": [
      "Finding the Longest Minimal Path"
     ]
    },
    {
     "cell_type": "code",
     "collapsed": false,
     "input": [
      "np.ma.masked_invalid(distances).max()"
     ],
     "language": "python",
     "metadata": {},
     "outputs": []
    },
    {
     "cell_type": "code",
     "collapsed": false,
     "input": [
      "i1, i2 = np.where(distances == 13)\n",
      "unique_paths = (i1 < i2)\n",
      "print zip(wordlist[i1][unique_paths], wordlist[i2][unique_paths])"
     ],
     "language": "python",
     "metadata": {},
     "outputs": []
    },
    {
     "cell_type": "code",
     "collapsed": false,
     "input": [
      "i = i2[0]\n",
      "while i != i1[0]:\n",
      "    print wordlist[i]\n",
      "    i = predecessors[i1[0], i]\n",
      "print wordlist[i]"
     ],
     "language": "python",
     "metadata": {},
     "outputs": []
    },
    {
     "cell_type": "heading",
     "level": 3,
     "metadata": {},
     "source": [
      "Connected Components"
     ]
    },
    {
     "cell_type": "code",
     "collapsed": false,
     "input": [
      "n_components, component_list = csgraph.connected_components(graph)\n",
      "print n_components"
     ],
     "language": "python",
     "metadata": {},
     "outputs": []
    },
    {
     "cell_type": "code",
     "collapsed": false,
     "input": [
      "print [np.sum(component_list == i) for i in range(14)]"
     ],
     "language": "python",
     "metadata": {},
     "outputs": []
    },
    {
     "cell_type": "code",
     "collapsed": false,
     "input": [
      "[list(wordlist[np.where(component_list == i)]) for i in range(1, 14)]"
     ],
     "language": "python",
     "metadata": {},
     "outputs": []
    },
    {
     "cell_type": "heading",
     "level": 3,
     "metadata": {},
     "source": [
      "More: Minimum Spanning Tree, Depth-first search, Breadth-first search..."
     ]
    },
    {
     "cell_type": "markdown",
     "metadata": {},
     "source": [
      "Check out ``scipy.sparse.csgraph`` in **scipy v. 0.12**!"
     ]
    }
   ],
   "metadata": {}
  }
 ]
}